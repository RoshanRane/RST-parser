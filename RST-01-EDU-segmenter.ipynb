{
 "cells": [
  {
   "cell_type": "code",
   "execution_count": 46,
   "metadata": {
    "scrolled": true
   },
   "outputs": [
    {
     "name": "stdout",
     "output_type": "stream",
     "text": [
      "Reading corpus from D:\\Study\\Masters\\Workspace\\ANLP\\ANLP_assignmentFinal\\repo\\RST-parser\\..\\..\\RST_corpus\\data\\SumExp-Texts150\\\n"
     ]
    }
   ],
   "source": [
    "import os.path\n",
    "import glob\n",
    "import nltk\n",
    "\n",
    "'''\n",
    "Reads the RST-DT corpus files and returns RST\n",
    "The internal folder structure of the corpus must not be changed. \n",
    "By default the function assumes that the relative directory of the  corpus is \"..\\..\\RST_corpus\"\n",
    "'''\n",
    "def readCorpus(relDir=\"..\\\\..\\\\RST_corpus\", dataClass=\"training\"):\n",
    "    \n",
    "    #go to the corpus dir  \n",
    "    if(dataClass == \"training\"):\n",
    "        relDir +=  \"\\\\data\\\\SumExp-Texts150\\\\\"\n",
    "        fileext = \"*.formatted\"\n",
    "    else:\n",
    "        raise ValueError(\"Value of 'dataClass' is incorrect. Select one of the following - 1)'training' 2)'test'\")\n",
    " \n",
    "    absDir = os.path.join(os.getcwd(), relDir)\n",
    "    \n",
    "    if(os.path.isdir(absDir)):\n",
    "        print(\"Reading corpus from \"+ absDir)\n",
    "    else:\n",
    "        raise ValueError(\"The dir \" + absDir +\" is incorrect or doesnot exist. Please check check the value set in 'relDir' \")\n",
    "            \n",
    "    files = os.path.join(absDir, fileext)\n",
    "    \n",
    "    #read each file\n",
    "    dat = []\n",
    "    for fname in glob.glob(files):\n",
    "        with open(fname, 'r', encoding='utf-8') as f:\n",
    "            \n",
    "            # tokenize to words\n",
    "            # clean and preprocess data here @Yulia example - remove the newline characters that are between the text\n",
    "            dat = [nltk.word_tokenize(sent) for sent in f]\n",
    "\n",
    "    return dat\n",
    "\n",
    "corpus = readCorpus(relDir=\"..\\\\..\\\\RST_corpus\")\n",
    "# for sent in corpus:\n",
    "#     print(\" \".join(sent))"
   ]
  },
  {
   "cell_type": "code",
   "execution_count": null,
   "metadata": {
    "collapsed": true
   },
   "outputs": [],
   "source": []
  },
  {
   "cell_type": "code",
   "execution_count": null,
   "metadata": {
    "collapsed": true
   },
   "outputs": [],
   "source": []
  }
 ],
 "metadata": {
  "kernelspec": {
   "display_name": "Python 3",
   "language": "python",
   "name": "python3"
  },
  "language_info": {
   "codemirror_mode": {
    "name": "ipython",
    "version": 3
   },
   "file_extension": ".py",
   "mimetype": "text/x-python",
   "name": "python",
   "nbconvert_exporter": "python",
   "pygments_lexer": "ipython3",
   "version": "3.6.2"
  }
 },
 "nbformat": 4,
 "nbformat_minor": 2
}
